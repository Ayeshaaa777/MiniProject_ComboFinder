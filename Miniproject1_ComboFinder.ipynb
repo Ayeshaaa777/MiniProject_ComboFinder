{
  "nbformat": 4,
  "nbformat_minor": 0,
  "metadata": {
    "colab": {
      "provenance": [],
      "authorship_tag": "ABX9TyOUQ9dOsN6eN4w/7Ym6n3LU",
      "include_colab_link": true
    },
    "kernelspec": {
      "name": "python3",
      "display_name": "Python 3"
    },
    "language_info": {
      "name": "python"
    }
  },
  "cells": [
    {
      "cell_type": "markdown",
      "metadata": {
        "id": "view-in-github",
        "colab_type": "text"
      },
      "source": [
        "<a href=\"https://colab.research.google.com/github/Ayeshaaa777/MiniProject_ComboFinder/blob/main/Miniproject1_ComboFinder.ipynb\" target=\"_parent\"><img src=\"https://colab.research.google.com/assets/colab-badge.svg\" alt=\"Open In Colab\"/></a>"
      ]
    },
    {
      "cell_type": "code",
      "execution_count": null,
      "metadata": {
        "id": "oCmljhIQNKW-"
      },
      "outputs": [],
      "source": [
        "# step-1 library inclusion\n",
        "import random as r\n"
      ]
    },
    {
      "cell_type": "code",
      "source": [
        "#step-2 parameter setting\n",
        "\n",
        "ProductList = {'p1':10, 'p2':15, 'p3':20, 'p4':25, 'p5':30, 'p6':35, 'p7':50,\n",
        "               'p8':40, 'p9':55, 'p10':60, 'p11':65, 'p12':75, 'p13':70,\n",
        "               'p14':45}\n",
        "LB = 290\n",
        "UB = 310\n",
        "ResultList = set() # built in class function.. you initialize with a set() when u want to pass elements in it or return elements from it (using print function) which are iterable i.e., used to return/pass many elements\n",
        "Iterations = 1000"
      ],
      "metadata": {
        "id": "yTXYwEljNcda"
      },
      "execution_count": null,
      "outputs": []
    },
    {
      "cell_type": "code",
      "source": [
        "# to understand the single run\n",
        "# step-3 select combo size\n",
        "\n",
        "SetSize = r.randint(2,len(ProductList)-1)\n",
        "print(\"Number of products: \", SetSize)"
      ],
      "metadata": {
        "colab": {
          "base_uri": "https://localhost:8080/"
        },
        "id": "nyPM33zCNd9l",
        "outputId": "9cb48a0e-8ad5-4a19-c685-8638e215b020"
      },
      "execution_count": null,
      "outputs": [
        {
          "output_type": "stream",
          "name": "stdout",
          "text": [
            "Number of products:  4\n"
          ]
        }
      ]
    },
    {
      "cell_type": "code",
      "source": [
        "# step-4 number of elements from the set\n",
        "ComboList = r.sample(list(ProductList.keys()),SetSize)\n",
        "print(\"Product List: \", ComboList)"
      ],
      "metadata": {
        "colab": {
          "base_uri": "https://localhost:8080/"
        },
        "id": "nY7MpnOyOIrW",
        "outputId": "5db9ea60-2ff6-4f8d-a36d-313d5bd6b7e9"
      },
      "execution_count": null,
      "outputs": [
        {
          "output_type": "stream",
          "name": "stdout",
          "text": [
            "Product List:  ['p12', 'p11', 'p9', 'p14']\n"
          ]
        }
      ]
    },
    {
      "cell_type": "code",
      "source": [
        "# step -5 Finding the sum of prices of product list\n",
        "ComboSum= sum([ProductList[i] for i in ComboList])\n",
        "print(\"Sum of Product: \", ComboSum)"
      ],
      "metadata": {
        "colab": {
          "base_uri": "https://localhost:8080/"
        },
        "id": "d6wudLNsOxGJ",
        "outputId": "52b769eb-165b-4021-b024-b46f099ef0e9"
      },
      "execution_count": null,
      "outputs": [
        {
          "output_type": "stream",
          "name": "stdout",
          "text": [
            "Sum of Product:  240\n"
          ]
        }
      ]
    },
    {
      "cell_type": "code",
      "source": [
        "# START RUN\n",
        "ResultList = set()\n",
        "for i in range(Iterations):\n",
        "    SetSize = r.randint(2,len(ProductList)-1)\n",
        "    ComboList = r.sample(list(ProductList.keys()),SetSize)\n",
        "    ComboSum= sum([ProductList[i] for i in ComboList])\n",
        "\n",
        "    if ComboSum >=LB and ComboSum <=UB:\n",
        "      ResultList.add(tuple(ComboList))\n",
        "\n",
        "print(\"Done\")"
      ],
      "metadata": {
        "colab": {
          "base_uri": "https://localhost:8080/"
        },
        "id": "kuqTEv4VQE-V",
        "outputId": "29a3c54a-fc2f-4169-f7e0-8fe8be722172"
      },
      "execution_count": null,
      "outputs": [
        {
          "output_type": "stream",
          "name": "stdout",
          "text": [
            "Done\n"
          ]
        }
      ]
    },
    {
      "cell_type": "code",
      "source": [
        "for r in ResultList:\n",
        "    print(r)\n",
        "\n",
        "print(\"Total Sets: \", len(ResultList))"
      ],
      "metadata": {
        "colab": {
          "base_uri": "https://localhost:8080/"
        },
        "id": "22nnF9qYTwN2",
        "outputId": "38fa5f7c-51b6-48c9-88ed-504003deee3b"
      },
      "execution_count": null,
      "outputs": [
        {
          "output_type": "stream",
          "name": "stdout",
          "text": [
            "('p5', 'p3', 'p10', 'p9', 'p1', 'p7', 'p11')\n",
            "('p3', 'p1', 'p11', 'p10', 'p14', 'p8', 'p7')\n",
            "('p12', 'p7', 'p5', 'p10', 'p8', 'p3', 'p2')\n",
            "('p5', 'p6', 'p8', 'p1', 'p13', 'p4', 'p14', 'p9')\n",
            "('p3', 'p2', 'p12', 'p8', 'p9', 'p4', 'p6', 'p5')\n",
            "('p6', 'p1', 'p3', 'p12', 'p2', 'p13', 'p14', 'p8')\n",
            "('p4', 'p1', 'p6', 'p8', 'p2', 'p10', 'p13', 'p9')\n",
            "('p8', 'p6', 'p1', 'p2', 'p13', 'p14', 'p12')\n",
            "('p6', 'p13', 'p3', 'p2', 'p9', 'p11', 'p5')\n",
            "('p10', 'p12', 'p8', 'p3', 'p7', 'p14', 'p2')\n",
            "('p8', 'p7', 'p13', 'p1', 'p4', 'p10', 'p14')\n",
            "('p12', 'p4', 'p8', 'p5', 'p1', 'p14', 'p10', 'p3')\n",
            "('p2', 'p14', 'p8', 'p12', 'p7', 'p1', 'p13')\n",
            "('p7', 'p12', 'p8', 'p9', 'p11', 'p3')\n",
            "('p12', 'p13', 'p4', 'p10', 'p11')\n",
            "('p10', 'p13', 'p1', 'p9', 'p12', 'p4')\n",
            "('p2', 'p11', 'p3', 'p12', 'p7', 'p14', 'p6')\n",
            "('p6', 'p14', 'p4', 'p10', 'p12', 'p7', 'p2')\n",
            "('p9', 'p13', 'p12', 'p14', 'p5', 'p4')\n",
            "('p14', 'p1', 'p9', 'p2', 'p12', 'p4', 'p11')\n",
            "('p8', 'p9', 'p13', 'p3', 'p5', 'p1', 'p12')\n",
            "('p11', 'p1', 'p13', 'p2', 'p5', 'p6', 'p4', 'p14')\n",
            "('p8', 'p1', 'p2', 'p10', 'p7', 'p14', 'p12')\n",
            "('p13', 'p8', 'p5', 'p7', 'p4', 'p9', 'p3')\n",
            "('p3', 'p8', 'p14', 'p5', 'p6', 'p4', 'p7', 'p10')\n",
            "('p5', 'p10', 'p4', 'p13', 'p6', 'p12')\n",
            "('p5', 'p13', 'p3', 'p8', 'p7', 'p1', 'p14', 'p4')\n",
            "('p5', 'p12', 'p8', 'p2', 'p3', 'p11', 'p7')\n",
            "('p7', 'p14', 'p12', 'p6', 'p5', 'p10')\n",
            "('p2', 'p12', 'p13', 'p11', 'p1', 'p9', 'p3')\n",
            "('p9', 'p12', 'p14', 'p8', 'p7', 'p3', 'p2', 'p1')\n",
            "('p9', 'p7', 'p3', 'p1', 'p5', 'p11', 'p8', 'p6')\n",
            "('p5', 'p6', 'p8', 'p9', 'p3', 'p4', 'p1', 'p14', 'p7')\n",
            "('p6', 'p4', 'p5', 'p3', 'p9', 'p12', 'p7')\n",
            "('p14', 'p9', 'p12', 'p4', 'p6', 'p8', 'p3')\n",
            "('p7', 'p11', 'p2', 'p9', 'p3', 'p6', 'p8', 'p1')\n",
            "('p10', 'p9', 'p4', 'p14', 'p11', 'p8', 'p1')\n",
            "('p1', 'p12', 'p5', 'p3', 'p14', 'p9', 'p13')\n",
            "('p6', 'p13', 'p9', 'p3', 'p12', 'p1', 'p4')\n",
            "('p11', 'p2', 'p5', 'p13', 'p4', 'p9', 'p8', 'p1')\n",
            "('p3', 'p4', 'p10', 'p7', 'p6', 'p11', 'p9')\n",
            "('p13', 'p4', 'p12', 'p9', 'p11')\n",
            "('p6', 'p7', 'p9', 'p4', 'p1', 'p14', 'p5', 'p10')\n",
            "('p12', 'p10', 'p3', 'p14', 'p6', 'p9')\n",
            "('p6', 'p14', 'p13', 'p1', 'p2', 'p11', 'p10')\n",
            "('p5', 'p1', 'p13', 'p2', 'p9', 'p4', 'p3', 'p11')\n",
            "('p1', 'p7', 'p10', 'p12', 'p6', 'p8', 'p3')\n",
            "('p4', 'p10', 'p13', 'p11', 'p7', 'p5')\n",
            "('p2', 'p12', 'p8', 'p14', 'p10', 'p11')\n",
            "('p9', 'p5', 'p10', 'p2', 'p13', 'p11')\n",
            "Total Sets:  50\n"
          ]
        }
      ]
    }
  ]
}